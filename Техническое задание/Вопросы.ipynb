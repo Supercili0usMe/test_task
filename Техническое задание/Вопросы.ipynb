{
 "cells": [
  {
   "cell_type": "markdown",
   "metadata": {},
   "source": [
    "## Ответы на вопросы из технического задания"
   ]
  },
  {
   "cell_type": "markdown",
   "metadata": {},
   "source": [
    "### Импорт данных и предварительная обработка"
   ]
  },
  {
   "cell_type": "code",
   "execution_count": 94,
   "metadata": {},
   "outputs": [
    {
     "data": {
      "text/html": [
       "<div>\n",
       "<style scoped>\n",
       "    .dataframe tbody tr th:only-of-type {\n",
       "        vertical-align: middle;\n",
       "    }\n",
       "\n",
       "    .dataframe tbody tr th {\n",
       "        vertical-align: top;\n",
       "    }\n",
       "\n",
       "    .dataframe thead th {\n",
       "        text-align: right;\n",
       "    }\n",
       "</style>\n",
       "<table border=\"1\" class=\"dataframe\">\n",
       "  <thead>\n",
       "    <tr style=\"text-align: right;\">\n",
       "      <th></th>\n",
       "      <th>client_id</th>\n",
       "      <th>sum</th>\n",
       "      <th>status</th>\n",
       "      <th>sale</th>\n",
       "      <th>new/current</th>\n",
       "      <th>Unnamed: 5</th>\n",
       "      <th>document</th>\n",
       "      <th>receiving_date</th>\n",
       "    </tr>\n",
       "  </thead>\n",
       "  <tbody>\n",
       "    <tr>\n",
       "      <th>0</th>\n",
       "      <td>NaN</td>\n",
       "      <td>NaN</td>\n",
       "      <td>Май 2021</td>\n",
       "      <td>NaN</td>\n",
       "      <td>NaN</td>\n",
       "      <td>NaN</td>\n",
       "      <td>NaN</td>\n",
       "      <td>NaN</td>\n",
       "    </tr>\n",
       "    <tr>\n",
       "      <th>1</th>\n",
       "      <td>6.0</td>\n",
       "      <td>11693.7</td>\n",
       "      <td>ВНУТРЕННИЙ</td>\n",
       "      <td>-</td>\n",
       "      <td>-</td>\n",
       "      <td>NaN</td>\n",
       "      <td>-</td>\n",
       "      <td>-</td>\n",
       "    </tr>\n",
       "    <tr>\n",
       "      <th>2</th>\n",
       "      <td>14.0</td>\n",
       "      <td>5452.7</td>\n",
       "      <td>ОПЛАЧЕНО</td>\n",
       "      <td>Петрова</td>\n",
       "      <td>новая</td>\n",
       "      <td>NaN</td>\n",
       "      <td>оригинал</td>\n",
       "      <td>2021-07-26 00:00:00</td>\n",
       "    </tr>\n",
       "    <tr>\n",
       "      <th>3</th>\n",
       "      <td>15.0</td>\n",
       "      <td>13991.7</td>\n",
       "      <td>ОПЛАЧЕНО</td>\n",
       "      <td>Иванов</td>\n",
       "      <td>текущая</td>\n",
       "      <td>NaN</td>\n",
       "      <td>оригинал</td>\n",
       "      <td>2021-06-08 00:00:00</td>\n",
       "    </tr>\n",
       "    <tr>\n",
       "      <th>4</th>\n",
       "      <td>16.0</td>\n",
       "      <td>719.7</td>\n",
       "      <td>ОПЛАЧЕНО</td>\n",
       "      <td>Иванов</td>\n",
       "      <td>текущая</td>\n",
       "      <td>NaN</td>\n",
       "      <td>оригинал</td>\n",
       "      <td>2021-06-08 00:00:00</td>\n",
       "    </tr>\n",
       "    <tr>\n",
       "      <th>...</th>\n",
       "      <td>...</td>\n",
       "      <td>...</td>\n",
       "      <td>...</td>\n",
       "      <td>...</td>\n",
       "      <td>...</td>\n",
       "      <td>...</td>\n",
       "      <td>...</td>\n",
       "      <td>...</td>\n",
       "    </tr>\n",
       "    <tr>\n",
       "      <th>725</th>\n",
       "      <td>285.0</td>\n",
       "      <td>4328.7</td>\n",
       "      <td>ОПЛАЧЕНО</td>\n",
       "      <td>Васильев</td>\n",
       "      <td>текущая</td>\n",
       "      <td>NaN</td>\n",
       "      <td>оригинал</td>\n",
       "      <td>2021-11-15 00:00:00</td>\n",
       "    </tr>\n",
       "    <tr>\n",
       "      <th>726</th>\n",
       "      <td>360.0</td>\n",
       "      <td>3096.2</td>\n",
       "      <td>ОПЛАЧЕНО</td>\n",
       "      <td>Васильев</td>\n",
       "      <td>новая</td>\n",
       "      <td>NaN</td>\n",
       "      <td>НЕТ</td>\n",
       "      <td>NaN</td>\n",
       "    </tr>\n",
       "    <tr>\n",
       "      <th>727</th>\n",
       "      <td>360.0</td>\n",
       "      <td>3096.2</td>\n",
       "      <td>ПРОСРОЧЕНО</td>\n",
       "      <td>Васильев</td>\n",
       "      <td>новая</td>\n",
       "      <td>NaN</td>\n",
       "      <td>НЕТ</td>\n",
       "      <td>NaN</td>\n",
       "    </tr>\n",
       "    <tr>\n",
       "      <th>728</th>\n",
       "      <td>373.0</td>\n",
       "      <td>4403.7</td>\n",
       "      <td>ОПЛАЧЕНО</td>\n",
       "      <td>Михайлов</td>\n",
       "      <td>новая</td>\n",
       "      <td>NaN</td>\n",
       "      <td>оригинал</td>\n",
       "      <td>2021-11-08 00:00:00</td>\n",
       "    </tr>\n",
       "    <tr>\n",
       "      <th>729</th>\n",
       "      <td>286.0</td>\n",
       "      <td>3978.7</td>\n",
       "      <td>ОПЛАЧЕНО</td>\n",
       "      <td>Филимонова</td>\n",
       "      <td>текущая</td>\n",
       "      <td>NaN</td>\n",
       "      <td>оригинал</td>\n",
       "      <td>2021-11-15 00:00:00</td>\n",
       "    </tr>\n",
       "  </tbody>\n",
       "</table>\n",
       "<p>730 rows × 8 columns</p>\n",
       "</div>"
      ],
      "text/plain": [
       "     client_id      sum      status        sale new/current  Unnamed: 5  \\\n",
       "0          NaN      NaN    Май 2021         NaN         NaN         NaN   \n",
       "1          6.0  11693.7  ВНУТРЕННИЙ           -           -         NaN   \n",
       "2         14.0   5452.7    ОПЛАЧЕНО     Петрова       новая         NaN   \n",
       "3         15.0  13991.7    ОПЛАЧЕНО      Иванов     текущая         NaN   \n",
       "4         16.0    719.7    ОПЛАЧЕНО      Иванов     текущая         NaN   \n",
       "..         ...      ...         ...         ...         ...         ...   \n",
       "725      285.0   4328.7    ОПЛАЧЕНО    Васильев     текущая         NaN   \n",
       "726      360.0   3096.2    ОПЛАЧЕНО    Васильев       новая         NaN   \n",
       "727      360.0   3096.2  ПРОСРОЧЕНО    Васильев       новая         NaN   \n",
       "728      373.0   4403.7    ОПЛАЧЕНО    Михайлов       новая         NaN   \n",
       "729      286.0   3978.7    ОПЛАЧЕНО  Филимонова     текущая         NaN   \n",
       "\n",
       "     document       receiving_date  \n",
       "0         NaN                  NaN  \n",
       "1           -                    -  \n",
       "2    оригинал  2021-07-26 00:00:00  \n",
       "3    оригинал  2021-06-08 00:00:00  \n",
       "4    оригинал  2021-06-08 00:00:00  \n",
       "..        ...                  ...  \n",
       "725  оригинал  2021-11-15 00:00:00  \n",
       "726       НЕТ                  NaN  \n",
       "727       НЕТ                  NaN  \n",
       "728  оригинал  2021-11-08 00:00:00  \n",
       "729  оригинал  2021-11-15 00:00:00  \n",
       "\n",
       "[730 rows x 8 columns]"
      ]
     },
     "execution_count": 94,
     "metadata": {},
     "output_type": "execute_result"
    }
   ],
   "source": [
    "import pandas as pd\n",
    "import matplotlib.pyplot as plt\n",
    "\n",
    "df = pd.read_excel(\"data.xlsx\")\n",
    "df"
   ]
  },
  {
   "cell_type": "code",
   "execution_count": 95,
   "metadata": {},
   "outputs": [
    {
     "data": {
      "text/html": [
       "<div>\n",
       "<style scoped>\n",
       "    .dataframe tbody tr th:only-of-type {\n",
       "        vertical-align: middle;\n",
       "    }\n",
       "\n",
       "    .dataframe tbody tr th {\n",
       "        vertical-align: top;\n",
       "    }\n",
       "\n",
       "    .dataframe thead th {\n",
       "        text-align: right;\n",
       "    }\n",
       "</style>\n",
       "<table border=\"1\" class=\"dataframe\">\n",
       "  <thead>\n",
       "    <tr style=\"text-align: right;\">\n",
       "      <th></th>\n",
       "      <th>client_id</th>\n",
       "      <th>sum</th>\n",
       "      <th>status</th>\n",
       "      <th>sale</th>\n",
       "      <th>new/current</th>\n",
       "      <th>document</th>\n",
       "      <th>receiving_date</th>\n",
       "    </tr>\n",
       "  </thead>\n",
       "  <tbody>\n",
       "    <tr>\n",
       "      <th>0</th>\n",
       "      <td>NaN</td>\n",
       "      <td>NaN</td>\n",
       "      <td>Май 2021</td>\n",
       "      <td>NaN</td>\n",
       "      <td>NaN</td>\n",
       "      <td>NaN</td>\n",
       "      <td>NaN</td>\n",
       "    </tr>\n",
       "    <tr>\n",
       "      <th>1</th>\n",
       "      <td>6.0</td>\n",
       "      <td>11693.7</td>\n",
       "      <td>ВНУТРЕННИЙ</td>\n",
       "      <td>-</td>\n",
       "      <td>-</td>\n",
       "      <td>-</td>\n",
       "      <td>-</td>\n",
       "    </tr>\n",
       "    <tr>\n",
       "      <th>2</th>\n",
       "      <td>14.0</td>\n",
       "      <td>5452.7</td>\n",
       "      <td>ОПЛАЧЕНО</td>\n",
       "      <td>Петрова</td>\n",
       "      <td>новая</td>\n",
       "      <td>оригинал</td>\n",
       "      <td>2021-07-26 00:00:00</td>\n",
       "    </tr>\n",
       "    <tr>\n",
       "      <th>3</th>\n",
       "      <td>15.0</td>\n",
       "      <td>13991.7</td>\n",
       "      <td>ОПЛАЧЕНО</td>\n",
       "      <td>Иванов</td>\n",
       "      <td>текущая</td>\n",
       "      <td>оригинал</td>\n",
       "      <td>2021-06-08 00:00:00</td>\n",
       "    </tr>\n",
       "    <tr>\n",
       "      <th>4</th>\n",
       "      <td>16.0</td>\n",
       "      <td>719.7</td>\n",
       "      <td>ОПЛАЧЕНО</td>\n",
       "      <td>Иванов</td>\n",
       "      <td>текущая</td>\n",
       "      <td>оригинал</td>\n",
       "      <td>2021-06-08 00:00:00</td>\n",
       "    </tr>\n",
       "    <tr>\n",
       "      <th>...</th>\n",
       "      <td>...</td>\n",
       "      <td>...</td>\n",
       "      <td>...</td>\n",
       "      <td>...</td>\n",
       "      <td>...</td>\n",
       "      <td>...</td>\n",
       "      <td>...</td>\n",
       "    </tr>\n",
       "    <tr>\n",
       "      <th>725</th>\n",
       "      <td>285.0</td>\n",
       "      <td>4328.7</td>\n",
       "      <td>ОПЛАЧЕНО</td>\n",
       "      <td>Васильев</td>\n",
       "      <td>текущая</td>\n",
       "      <td>оригинал</td>\n",
       "      <td>2021-11-15 00:00:00</td>\n",
       "    </tr>\n",
       "    <tr>\n",
       "      <th>726</th>\n",
       "      <td>360.0</td>\n",
       "      <td>3096.2</td>\n",
       "      <td>ОПЛАЧЕНО</td>\n",
       "      <td>Васильев</td>\n",
       "      <td>новая</td>\n",
       "      <td>НЕТ</td>\n",
       "      <td>NaN</td>\n",
       "    </tr>\n",
       "    <tr>\n",
       "      <th>727</th>\n",
       "      <td>360.0</td>\n",
       "      <td>3096.2</td>\n",
       "      <td>ПРОСРОЧЕНО</td>\n",
       "      <td>Васильев</td>\n",
       "      <td>новая</td>\n",
       "      <td>НЕТ</td>\n",
       "      <td>NaN</td>\n",
       "    </tr>\n",
       "    <tr>\n",
       "      <th>728</th>\n",
       "      <td>373.0</td>\n",
       "      <td>4403.7</td>\n",
       "      <td>ОПЛАЧЕНО</td>\n",
       "      <td>Михайлов</td>\n",
       "      <td>новая</td>\n",
       "      <td>оригинал</td>\n",
       "      <td>2021-11-08 00:00:00</td>\n",
       "    </tr>\n",
       "    <tr>\n",
       "      <th>729</th>\n",
       "      <td>286.0</td>\n",
       "      <td>3978.7</td>\n",
       "      <td>ОПЛАЧЕНО</td>\n",
       "      <td>Филимонова</td>\n",
       "      <td>текущая</td>\n",
       "      <td>оригинал</td>\n",
       "      <td>2021-11-15 00:00:00</td>\n",
       "    </tr>\n",
       "  </tbody>\n",
       "</table>\n",
       "<p>730 rows × 7 columns</p>\n",
       "</div>"
      ],
      "text/plain": [
       "     client_id      sum      status        sale new/current  document  \\\n",
       "0          NaN      NaN    Май 2021         NaN         NaN       NaN   \n",
       "1          6.0  11693.7  ВНУТРЕННИЙ           -           -         -   \n",
       "2         14.0   5452.7    ОПЛАЧЕНО     Петрова       новая  оригинал   \n",
       "3         15.0  13991.7    ОПЛАЧЕНО      Иванов     текущая  оригинал   \n",
       "4         16.0    719.7    ОПЛАЧЕНО      Иванов     текущая  оригинал   \n",
       "..         ...      ...         ...         ...         ...       ...   \n",
       "725      285.0   4328.7    ОПЛАЧЕНО    Васильев     текущая  оригинал   \n",
       "726      360.0   3096.2    ОПЛАЧЕНО    Васильев       новая       НЕТ   \n",
       "727      360.0   3096.2  ПРОСРОЧЕНО    Васильев       новая       НЕТ   \n",
       "728      373.0   4403.7    ОПЛАЧЕНО    Михайлов       новая  оригинал   \n",
       "729      286.0   3978.7    ОПЛАЧЕНО  Филимонова     текущая  оригинал   \n",
       "\n",
       "          receiving_date  \n",
       "0                    NaN  \n",
       "1                      -  \n",
       "2    2021-07-26 00:00:00  \n",
       "3    2021-06-08 00:00:00  \n",
       "4    2021-06-08 00:00:00  \n",
       "..                   ...  \n",
       "725  2021-11-15 00:00:00  \n",
       "726                  NaN  \n",
       "727                  NaN  \n",
       "728  2021-11-08 00:00:00  \n",
       "729  2021-11-15 00:00:00  \n",
       "\n",
       "[730 rows x 7 columns]"
      ]
     },
     "execution_count": 95,
     "metadata": {},
     "output_type": "execute_result"
    }
   ],
   "source": [
    "del df[\"Unnamed: 5\"]\n",
    "df"
   ]
  },
  {
   "cell_type": "code",
   "execution_count": 96,
   "metadata": {},
   "outputs": [
    {
     "name": "stdout",
     "output_type": "stream",
     "text": [
      "<class 'pandas.core.frame.DataFrame'>\n",
      "RangeIndex: 730 entries, 0 to 729\n",
      "Data columns (total 7 columns):\n",
      " #   Column          Non-Null Count  Dtype  \n",
      "---  ------          --------------  -----  \n",
      " 0   client_id       724 non-null    float64\n",
      " 1   sum             724 non-null    float64\n",
      " 2   status          730 non-null    object \n",
      " 3   sale            724 non-null    object \n",
      " 4   new/current     724 non-null    object \n",
      " 5   document        709 non-null    object \n",
      " 6   receiving_date  607 non-null    object \n",
      "dtypes: float64(2), object(5)\n",
      "memory usage: 40.1+ KB\n"
     ]
    }
   ],
   "source": [
    "df.info()"
   ]
  },
  {
   "cell_type": "code",
   "execution_count": 97,
   "metadata": {},
   "outputs": [
    {
     "name": "stderr",
     "output_type": "stream",
     "text": [
      "C:\\Users\\supercilious\\AppData\\Local\\Temp\\ipykernel_26520\\4280626932.py:1: UserWarning: This pattern is interpreted as a regular expression, and has match groups. To actually get the groups, use str.extract.\n",
      "  stats = df[df[\"status\"].str.contains(r\"(\\b[А-Яа-я]+\\s\\d{4}\\b)\")]\n"
     ]
    },
    {
     "data": {
      "text/html": [
       "<div>\n",
       "<style scoped>\n",
       "    .dataframe tbody tr th:only-of-type {\n",
       "        vertical-align: middle;\n",
       "    }\n",
       "\n",
       "    .dataframe tbody tr th {\n",
       "        vertical-align: top;\n",
       "    }\n",
       "\n",
       "    .dataframe thead th {\n",
       "        text-align: right;\n",
       "    }\n",
       "</style>\n",
       "<table border=\"1\" class=\"dataframe\">\n",
       "  <thead>\n",
       "    <tr style=\"text-align: right;\">\n",
       "      <th></th>\n",
       "      <th>client_id</th>\n",
       "      <th>sum</th>\n",
       "      <th>status</th>\n",
       "      <th>sale</th>\n",
       "      <th>new/current</th>\n",
       "      <th>document</th>\n",
       "      <th>receiving_date</th>\n",
       "    </tr>\n",
       "  </thead>\n",
       "  <tbody>\n",
       "    <tr>\n",
       "      <th>0</th>\n",
       "      <td>NaN</td>\n",
       "      <td>NaN</td>\n",
       "      <td>Май 2021</td>\n",
       "      <td>NaN</td>\n",
       "      <td>NaN</td>\n",
       "      <td>NaN</td>\n",
       "      <td>NaN</td>\n",
       "    </tr>\n",
       "    <tr>\n",
       "      <th>129</th>\n",
       "      <td>NaN</td>\n",
       "      <td>NaN</td>\n",
       "      <td>Июнь 2021</td>\n",
       "      <td>NaN</td>\n",
       "      <td>NaN</td>\n",
       "      <td>NaN</td>\n",
       "      <td>NaN</td>\n",
       "    </tr>\n",
       "    <tr>\n",
       "      <th>258</th>\n",
       "      <td>NaN</td>\n",
       "      <td>NaN</td>\n",
       "      <td>Июль 2021</td>\n",
       "      <td>NaN</td>\n",
       "      <td>NaN</td>\n",
       "      <td>NaN</td>\n",
       "      <td>NaN</td>\n",
       "    </tr>\n",
       "    <tr>\n",
       "      <th>369</th>\n",
       "      <td>NaN</td>\n",
       "      <td>NaN</td>\n",
       "      <td>Август 2021</td>\n",
       "      <td>NaN</td>\n",
       "      <td>NaN</td>\n",
       "      <td>NaN</td>\n",
       "      <td>NaN</td>\n",
       "    </tr>\n",
       "    <tr>\n",
       "      <th>484</th>\n",
       "      <td>NaN</td>\n",
       "      <td>NaN</td>\n",
       "      <td>Сентябрь 2021</td>\n",
       "      <td>NaN</td>\n",
       "      <td>NaN</td>\n",
       "      <td>NaN</td>\n",
       "      <td>NaN</td>\n",
       "    </tr>\n",
       "    <tr>\n",
       "      <th>594</th>\n",
       "      <td>NaN</td>\n",
       "      <td>NaN</td>\n",
       "      <td>Октябрь 2021</td>\n",
       "      <td>NaN</td>\n",
       "      <td>NaN</td>\n",
       "      <td>NaN</td>\n",
       "      <td>NaN</td>\n",
       "    </tr>\n",
       "  </tbody>\n",
       "</table>\n",
       "</div>"
      ],
      "text/plain": [
       "     client_id  sum         status sale new/current document receiving_date\n",
       "0          NaN  NaN       Май 2021  NaN         NaN      NaN            NaN\n",
       "129        NaN  NaN      Июнь 2021  NaN         NaN      NaN            NaN\n",
       "258        NaN  NaN      Июль 2021  NaN         NaN      NaN            NaN\n",
       "369        NaN  NaN    Август 2021  NaN         NaN      NaN            NaN\n",
       "484        NaN  NaN  Сентябрь 2021  NaN         NaN      NaN            NaN\n",
       "594        NaN  NaN   Октябрь 2021  NaN         NaN      NaN            NaN"
      ]
     },
     "execution_count": 97,
     "metadata": {},
     "output_type": "execute_result"
    }
   ],
   "source": [
    "stats = df[df[\"status\"].str.contains(r\"(\\b[А-Яа-я]+\\s\\d{4}\\b)\")]\n",
    "stats"
   ]
  },
  {
   "cell_type": "code",
   "execution_count": 98,
   "metadata": {},
   "outputs": [],
   "source": [
    "may_2021 = df.iloc[1:129]\n",
    "june_2021 = df.iloc[130:258]\n",
    "july_2021 = df.iloc[259:369]\n",
    "august_2021 = df.iloc[370:484]\n",
    "september_2021 = df.iloc[485:594]\n",
    "october_2021 = df.iloc[595:731]"
   ]
  },
  {
   "cell_type": "markdown",
   "metadata": {},
   "source": [
    "### 1)"
   ]
  },
  {
   "cell_type": "markdown",
   "metadata": {},
   "source": [
    "Вычислите общую выручку за июль 2021 по тем сделкам, приход денежных средств которых не просрочен"
   ]
  },
  {
   "cell_type": "code",
   "execution_count": 114,
   "metadata": {},
   "outputs": [
    {
     "name": "stdout",
     "output_type": "stream",
     "text": [
      "Сумма всех оплаченых транзакций в июле = 859896.47\n"
     ]
    }
   ],
   "source": [
    "july_profit = july_2021[july_2021['status'] == \"ОПЛАЧЕНО\"]['sum'].sum()\n",
    "print(f'Сумма всех оплаченых транзакций в июле = {july_profit:.2f}')"
   ]
  },
  {
   "cell_type": "markdown",
   "metadata": {},
   "source": [
    "### 2)"
   ]
  },
  {
   "cell_type": "markdown",
   "metadata": {},
   "source": [
    "Как изменялась выручка компании за рассматриваемый период? Проиллюстрируйте на графике:"
   ]
  },
  {
   "cell_type": "markdown",
   "metadata": {},
   "source": [
    "В данном случае рассматриваются только те поступления, которые имеют статус `ОПЛАЧЕНО`, без `ВНУТРЕННИЙ`, `ПРОСРОЧЕНО` и `В РАБОТЕ`"
   ]
  },
  {
   "cell_type": "code",
   "execution_count": 100,
   "metadata": {},
   "outputs": [
    {
     "data": {
      "image/png": "[encoded data removed]",
      "text/plain": [
       "<Figure size 640x480 with 1 Axes>"
      ]
     },
     "metadata": {},
     "output_type": "display_data"
    }
   ],
   "source": [
    "month = {\"may\": may_2021, \"june\": june_2021, \"july\": july_2021,\n",
    "         \"august\": august_2021, \"september\": september_2021, \"october\": october_2021}\n",
    "profits = []\n",
    "for k, df in month.items():\n",
    "    profits.append(df[df['status'] == \"ОПЛАЧЕНО\"]['sum'].sum())\n",
    "\n",
    "plt.bar(month.keys(), profits, color='k', width=0.5)\n",
    "plt.ylabel(\"выручка (руб.)\")\n",
    "plt.title(\"Выручка компании за рассматриваемый период\")\n",
    "plt.show()"
   ]
  },
  {
   "cell_type": "markdown",
   "metadata": {},
   "source": [
    "Если же рассматривать все возможные статусы в графе статус, то график будет выглядеть следующим образом:"
   ]
  },
  {
   "cell_type": "code",
   "execution_count": 116,
   "metadata": {},
   "outputs": [
    {
     "data": {
      "image/png": "[encoded data removed]",
      "text/plain": [
       "<Figure size 640x480 with 1 Axes>"
      ]
     },
     "metadata": {},
     "output_type": "display_data"
    }
   ],
   "source": [
    "profits = []\n",
    "for k, df in month.items():\n",
    "    profits.append(df['sum'].sum())\n",
    "\n",
    "plt.bar(month.keys(), profits, color='k', width=0.5)\n",
    "plt.ylabel(\"выручка (руб.)\")\n",
    "plt.title(\"Выручка компании за рассматриваемый период\")\n",
    "plt.show()"
   ]
  },
  {
   "cell_type": "markdown",
   "metadata": {},
   "source": [
    "### 3)"
   ]
  },
  {
   "cell_type": "markdown",
   "metadata": {},
   "source": [
    "Кто из менеджеров привлек для компании больше всего денежных средств в сентябре 2021?"
   ]
  },
  {
   "cell_type": "markdown",
   "metadata": {},
   "source": [
    "Опять же, рассматривается только статус `ОПЛАЧЕНО`"
   ]
  },
  {
   "cell_type": "code",
   "execution_count": 101,
   "metadata": {},
   "outputs": [
    {
     "name": "stdout",
     "output_type": "stream",
     "text": [
      "Наибольшую прибыль привлек: Смирнов \n",
      "Cо значением: 205258.30\n"
     ]
    }
   ],
   "source": [
    "most_sales = september_2021[september_2021['status'] == \"ОПЛАЧЕНО\"].groupby(\"sale\")[\"sum\"].sum().sort_values(ascending=False)\n",
    "print(f\"Наибольшую прибыль привлек: {most_sales.index[0]} \\nCо значением: {most_sales.iloc[0]:.2f}\")"
   ]
  },
  {
   "cell_type": "markdown",
   "metadata": {},
   "source": [
    "Если же рассматривать все возможные статусы то результат будет следующим:"
   ]
  },
  {
   "cell_type": "code",
   "execution_count": 117,
   "metadata": {},
   "outputs": [
    {
     "name": "stdout",
     "output_type": "stream",
     "text": [
      "Наибольшую прибыль привлек: Смирнов \n",
      "Cо значением: 221525.70\n"
     ]
    }
   ],
   "source": [
    "most_sales = september_2021.groupby(\"sale\")[\"sum\"].sum().sort_values(ascending=False)\n",
    "print(f\"Наибольшую прибыль привлек: {most_sales.index[0]} \\nCо значением: {most_sales.iloc[0]:.2f}\")"
   ]
  },
  {
   "cell_type": "markdown",
   "metadata": {},
   "source": [
    "### 4)"
   ]
  },
  {
   "cell_type": "markdown",
   "metadata": {},
   "source": [
    "Какой тип сделок (новая/текущая) был преобладающим в октябре 2021?"
   ]
  },
  {
   "cell_type": "code",
   "execution_count": 102,
   "metadata": {},
   "outputs": [
    {
     "name": "stdout",
     "output_type": "stream",
     "text": [
      "В октябре месяце преобладали: текущая \n",
      "Со значением: 99\n"
     ]
    }
   ],
   "source": [
    "sales_type = october_2021.groupby(\"new/current\")['client_id'].count().sort_values(ascending=False)\n",
    "print(f\"В октябре месяце преобладали: {sales_type.index[0]} \\nСо значением: {sales_type.iloc[0]}\")"
   ]
  },
  {
   "cell_type": "markdown",
   "metadata": {},
   "source": [
    "### 5)"
   ]
  },
  {
   "cell_type": "markdown",
   "metadata": {},
   "source": [
    "Сколько оригиналов договора по майским сделкам было получено в июне 2021?"
   ]
  },
  {
   "cell_type": "markdown",
   "metadata": {},
   "source": [
    "Если я правильно понял суть задания, то требуется посчитать количество оригиналов, отданных в июне, по сделке, совершенной в мае. При этом без разницы, сделка новая или текущая"
   ]
  },
  {
   "cell_type": "code",
   "execution_count": 103,
   "metadata": {},
   "outputs": [
    {
     "data": {
      "text/html": [
       "<div>\n",
       "<style scoped>\n",
       "    .dataframe tbody tr th:only-of-type {\n",
       "        vertical-align: middle;\n",
       "    }\n",
       "\n",
       "    .dataframe tbody tr th {\n",
       "        vertical-align: top;\n",
       "    }\n",
       "\n",
       "    .dataframe thead th {\n",
       "        text-align: right;\n",
       "    }\n",
       "</style>\n",
       "<table border=\"1\" class=\"dataframe\">\n",
       "  <thead>\n",
       "    <tr style=\"text-align: right;\">\n",
       "      <th></th>\n",
       "      <th>client_id</th>\n",
       "      <th>sum</th>\n",
       "      <th>status</th>\n",
       "      <th>sale</th>\n",
       "      <th>new/current</th>\n",
       "      <th>document</th>\n",
       "      <th>receiving_date</th>\n",
       "    </tr>\n",
       "  </thead>\n",
       "  <tbody>\n",
       "    <tr>\n",
       "      <th>2</th>\n",
       "      <td>14.0</td>\n",
       "      <td>5452.7</td>\n",
       "      <td>ОПЛАЧЕНО</td>\n",
       "      <td>Петрова</td>\n",
       "      <td>новая</td>\n",
       "      <td>оригинал</td>\n",
       "      <td>2021-07-26 00:00:00</td>\n",
       "    </tr>\n",
       "    <tr>\n",
       "      <th>3</th>\n",
       "      <td>15.0</td>\n",
       "      <td>13991.7</td>\n",
       "      <td>ОПЛАЧЕНО</td>\n",
       "      <td>Иванов</td>\n",
       "      <td>текущая</td>\n",
       "      <td>оригинал</td>\n",
       "      <td>2021-06-08 00:00:00</td>\n",
       "    </tr>\n",
       "    <tr>\n",
       "      <th>4</th>\n",
       "      <td>16.0</td>\n",
       "      <td>719.7</td>\n",
       "      <td>ОПЛАЧЕНО</td>\n",
       "      <td>Иванов</td>\n",
       "      <td>текущая</td>\n",
       "      <td>оригинал</td>\n",
       "      <td>2021-06-08 00:00:00</td>\n",
       "    </tr>\n",
       "    <tr>\n",
       "      <th>5</th>\n",
       "      <td>18.0</td>\n",
       "      <td>4253.7</td>\n",
       "      <td>ОПЛАЧЕНО</td>\n",
       "      <td>Иванов</td>\n",
       "      <td>текущая</td>\n",
       "      <td>оригинал</td>\n",
       "      <td>2021-07-07 00:00:00</td>\n",
       "    </tr>\n",
       "    <tr>\n",
       "      <th>6</th>\n",
       "      <td>20.0</td>\n",
       "      <td>5796.7</td>\n",
       "      <td>ОПЛАЧЕНО</td>\n",
       "      <td>Кузнецова</td>\n",
       "      <td>текущая</td>\n",
       "      <td>оригинал</td>\n",
       "      <td>2021-07-15 00:00:00</td>\n",
       "    </tr>\n",
       "    <tr>\n",
       "      <th>...</th>\n",
       "      <td>...</td>\n",
       "      <td>...</td>\n",
       "      <td>...</td>\n",
       "      <td>...</td>\n",
       "      <td>...</td>\n",
       "      <td>...</td>\n",
       "      <td>...</td>\n",
       "    </tr>\n",
       "    <tr>\n",
       "      <th>124</th>\n",
       "      <td>277.0</td>\n",
       "      <td>4623.7</td>\n",
       "      <td>ОПЛАЧЕНО</td>\n",
       "      <td>Филимонова</td>\n",
       "      <td>текущая</td>\n",
       "      <td>оригинал</td>\n",
       "      <td>2021-07-14 00:00:00</td>\n",
       "    </tr>\n",
       "    <tr>\n",
       "      <th>125</th>\n",
       "      <td>281.0</td>\n",
       "      <td>4488.7</td>\n",
       "      <td>ОПЛАЧЕНО</td>\n",
       "      <td>Селиванов</td>\n",
       "      <td>новая</td>\n",
       "      <td>оригинал</td>\n",
       "      <td>2021-07-16 00:00:00</td>\n",
       "    </tr>\n",
       "    <tr>\n",
       "      <th>126</th>\n",
       "      <td>284.0</td>\n",
       "      <td>8903.7</td>\n",
       "      <td>ПРОСРОЧЕНО</td>\n",
       "      <td>Филимонова</td>\n",
       "      <td>текущая</td>\n",
       "      <td>оригинал</td>\n",
       "      <td>2021-07-27 00:00:00</td>\n",
       "    </tr>\n",
       "    <tr>\n",
       "      <th>127</th>\n",
       "      <td>286.0</td>\n",
       "      <td>3453.7</td>\n",
       "      <td>ОПЛАЧЕНО</td>\n",
       "      <td>Филимонова</td>\n",
       "      <td>текущая</td>\n",
       "      <td>оригинал</td>\n",
       "      <td>2021-05-31 00:00:00</td>\n",
       "    </tr>\n",
       "    <tr>\n",
       "      <th>128</th>\n",
       "      <td>287.0</td>\n",
       "      <td>6368.7</td>\n",
       "      <td>ОПЛАЧЕНО</td>\n",
       "      <td>Филимонова</td>\n",
       "      <td>текущая</td>\n",
       "      <td>оригинал</td>\n",
       "      <td>2021-06-29 00:00:00</td>\n",
       "    </tr>\n",
       "  </tbody>\n",
       "</table>\n",
       "<p>127 rows × 7 columns</p>\n",
       "</div>"
      ],
      "text/plain": [
       "     client_id      sum      status        sale new/current  document  \\\n",
       "2         14.0   5452.7    ОПЛАЧЕНО     Петрова       новая  оригинал   \n",
       "3         15.0  13991.7    ОПЛАЧЕНО      Иванов     текущая  оригинал   \n",
       "4         16.0    719.7    ОПЛАЧЕНО      Иванов     текущая  оригинал   \n",
       "5         18.0   4253.7    ОПЛАЧЕНО      Иванов     текущая  оригинал   \n",
       "6         20.0   5796.7    ОПЛАЧЕНО   Кузнецова     текущая  оригинал   \n",
       "..         ...      ...         ...         ...         ...       ...   \n",
       "124      277.0   4623.7    ОПЛАЧЕНО  Филимонова     текущая  оригинал   \n",
       "125      281.0   4488.7    ОПЛАЧЕНО   Селиванов       новая  оригинал   \n",
       "126      284.0   8903.7  ПРОСРОЧЕНО  Филимонова     текущая  оригинал   \n",
       "127      286.0   3453.7    ОПЛАЧЕНО  Филимонова     текущая  оригинал   \n",
       "128      287.0   6368.7    ОПЛАЧЕНО  Филимонова     текущая  оригинал   \n",
       "\n",
       "          receiving_date  \n",
       "2    2021-07-26 00:00:00  \n",
       "3    2021-06-08 00:00:00  \n",
       "4    2021-06-08 00:00:00  \n",
       "5    2021-07-07 00:00:00  \n",
       "6    2021-07-15 00:00:00  \n",
       "..                   ...  \n",
       "124  2021-07-14 00:00:00  \n",
       "125  2021-07-16 00:00:00  \n",
       "126  2021-07-27 00:00:00  \n",
       "127  2021-05-31 00:00:00  \n",
       "128  2021-06-29 00:00:00  \n",
       "\n",
       "[127 rows x 7 columns]"
      ]
     },
     "execution_count": 103,
     "metadata": {},
     "output_type": "execute_result"
    }
   ],
   "source": [
    "may_2021 = may_2021.iloc[1:,:]\n",
    "may_2021"
   ]
  },
  {
   "cell_type": "code",
   "execution_count": 110,
   "metadata": {},
   "outputs": [],
   "source": [
    "may_2021.loc[:, \"receiving_date\"] = pd.to_datetime(may_2021[\"receiving_date\"])"
   ]
  },
  {
   "cell_type": "code",
   "execution_count": 113,
   "metadata": {},
   "outputs": [
    {
     "name": "stdout",
     "output_type": "stream",
     "text": [
      "Всего было получено 76 договоров в июне за майские сделки\n"
     ]
    }
   ],
   "source": [
    "original_count = may_2021[(may_2021[\"receiving_date\"].dt.month == 6) & (may_2021[\"document\"] == 'оригинал')].count()\n",
    "print(f\"Всего было получено {original_count.iloc[0]} договоров в июне за майские сделки\")"
   ]
  }
 ],
 "metadata": {
  "kernelspec": {
   "display_name": "Python 3",
   "language": "python",
   "name": "python3"
  },
  "language_info": {
   "codemirror_mode": {
    "name": "ipython",
    "version": 3
   },
   "file_extension": ".py",
   "mimetype": "text/x-python",
   "name": "python",
   "nbconvert_exporter": "python",
   "pygments_lexer": "ipython3",
   "version": "3.11.5"
  }
 },
 "nbformat": 4,
 "nbformat_minor": 2
}
